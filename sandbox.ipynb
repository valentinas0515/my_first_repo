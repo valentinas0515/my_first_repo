{
  "nbformat": 4,
  "nbformat_minor": 0,
  "metadata": {
    "colab": {
      "name": "sandbox.ipynb",
      "provenance": [],
      "authorship_tag": "ABX9TyPCJhG1WeaQGfo+wX9bSAyw",
      "include_colab_link": true
    },
    "kernelspec": {
      "name": "python3",
      "display_name": "Python 3"
    },
    "language_info": {
      "name": "python"
    }
  },
  "cells": [
    {
      "cell_type": "markdown",
      "metadata": {
        "id": "view-in-github",
        "colab_type": "text"
      },
      "source": [
        "<a href=\"https://colab.research.google.com/github/valentinas0515/my_first_repo/blob/main/sandbox.ipynb\" target=\"_parent\"><img src=\"https://colab.research.google.com/assets/colab-badge.svg\" alt=\"Open In Colab\"/></a>"
      ]
    },
    {
      "cell_type": "code",
      "metadata": {
        "id": "uOv4EXYyBnqI"
      },
      "source": [
        ""
      ],
      "execution_count": null,
      "outputs": []
    },
    {
      "cell_type": "markdown",
      "metadata": {
        "id": "ZjbPIRZcBoNL"
      },
      "source": [
        "EXPLORING THE ASSIGNMENT\n",
        "\n",
        "[Yahoo Finance] (https://au.finance.yahoo.com/)\n",
        "\n",
        "#Inputs\n",
        "\n",
        "Prompt for a ticker Symbol\n",
        "*Find out What is a Ticker Symbol?\n",
        "\n",
        "#Processing\n",
        "*Get incom from webpage. Which page?\n",
        "*Calculate \n",
        "\n",
        "#Output\n",
        "\n",
        "* Save to CSV file (How, use CSV or Pandas?)\n",
        "* Save to SQLite (See week on Database)\n",
        "\n"
      ]
    }
  ]
}