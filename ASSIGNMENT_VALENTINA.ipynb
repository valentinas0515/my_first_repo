{
  "nbformat": 4,
  "nbformat_minor": 0,
  "metadata": {
    "colab": {
      "name": "ASSIGNMENT VALENTINA.ipynb",
      "provenance": [],
      "collapsed_sections": [],
      "include_colab_link": true
    },
    "kernelspec": {
      "name": "python3",
      "display_name": "Python 3"
    },
    "language_info": {
      "name": "python"
    }
  },
  "cells": [
    {
      "cell_type": "markdown",
      "metadata": {
        "id": "view-in-github",
        "colab_type": "text"
      },
      "source": [
        "<a href=\"https://colab.research.google.com/github/valentinas0515/my_first_repo/blob/main/ASSIGNMENT_VALENTINA.ipynb\" target=\"_parent\"><img src=\"https://colab.research.google.com/assets/colab-badge.svg\" alt=\"Open In Colab\"/></a>"
      ]
    },
    {
      "cell_type": "markdown",
      "metadata": {
        "id": "LEfb2_4zai3A"
      },
      "source": [
        "#**ASSIGNMENT - KEY EXECUTIVE PAY**\n",
        "### *Presented by: Valentina Sánchez Arenas - 20699569*\n",
        "\n",
        "\n",
        "\n",
        "\n",
        "\n"
      ]
    },
    {
      "cell_type": "markdown",
      "metadata": {
        "id": "zYCK8vlhFaeZ"
      },
      "source": [
        "##Problem Solving Methodology\n",
        "\n",
        "For the development of this assignment, the problem-solving methodology was followed to carry out a clear approach to the requirements of the exercise and solve it in a clear and structured way.\n",
        "\n",
        "The process of problem solving I will use can be broken down into 5 key steps:\n",
        "\n",
        "* State the problem clearly\n",
        "* Describe the input and output information\n",
        "* Work the problem by hand\n",
        "* Develop an algorithm \n",
        "+ Test solution with a variety of data"
      ]
    },
    {
      "cell_type": "markdown",
      "metadata": {
        "id": "wm4T5K_SACtG"
      },
      "source": [
        "#Problem Statement\n",
        "\n",
        "Prompts the user for a company's stock market ticker symbol. Then, scrapes the Yahoo Finance website to extract information on the key of the company. For each executive calculate the expected income tax based on the ATO tax tables. The user can choose if the data will be saved as a CSV and/or stored in an SQLite database.\n",
        "\n",
        "**RECOMMENDATION:**  consider tickers from Australian companies, due to the TAX Rates applied in this exercise were provided by the ATO (Australian Taxation Office). \n"
      ]
    },
    {
      "cell_type": "markdown",
      "metadata": {
        "id": "mwCjE8lFOLHX"
      },
      "source": [
        "# Input & Output Information\n",
        "\n",
        "## Input: \n",
        "Get the ticker symbol from the user\n",
        " \n",
        "## Processing:  \n",
        "* Use the symbol to go to the profile page\n",
        "* Get the table\n",
        "  - for each row get the pay\n",
        "  -  Use pay to calulate tax\n",
        "\n",
        "\n",
        "##Output:\n",
        "\n",
        " Save the information as CSV and/or Save as SQLite"
      ]
    },
    {
      "cell_type": "markdown",
      "metadata": {
        "id": "pd03kGFnIXAd"
      },
      "source": [
        "#Try to work an example by hand\n",
        "\n",
        "\n",
        "Here is the table from the website YAHOO FINANCE for WOW.AX (Woolworths Group ticker):\n",
        "\n",
        "\n",
        "```\n",
        "Name\t               Title\tPay\tExercised\tYear born\n",
        "Mr. Bradford Leon    CEO & Exec. Director\t4.36M\tN/A\tN/A\n",
        "Mr. Stephen Harrison Chief Financial Officer\t1.43M\tN/A\tN/A\n",
        "Ms. Natalie Davis\tManaging Director of Supermarkets\t1.41M\tN/A\tN/A\n",
        "Ms. Claire Peters\tManaging Director of B2B & Everyday Needs\t676.11k\tN/A\tN/A\n",
        "Mr. John Hunt\tChief Information & Replenishment Officer\tN/A\tN/A\tN/A\n",
        "Mr. Paul van Meurs\tHead of Investor Relations\tN/A\tN/A\tN/A\n",
        "Mr. Bill Reid\tChief Legal Officer\tN/A\tN/A\tN/A\n",
        "Mr. Andrew Hicks\tChief Marketing Officer\tN/A\tN/A\tN/A\n",
        "Ms. Caryn Katsikogianis\tChief People Officer\tN/A\tN/A\tN/A\n",
        "Mr. David Walker\tChief Risk Officer\tN/A\tN/A\tN/A\n",
        "\n",
        "```\n",
        "\n",
        "\n",
        "```\n",
        "\n",
        "Name\t                                Title\t               Pay\t\n",
        "Mr. Bradford Leon Banducci BComm     CEO & Exec. Director\t 4.36M\n",
        "```\n",
        "\n",
        "\n",
        "For this excercise the only columns that are taken into consideration are NAME, TITLE & PAY\n",
        "\n",
        "###Lets do another row, this time for COLES.AX\n",
        "\n",
        "```\n",
        "bame\t               Title\t         Pay\t\n",
        "Mr. Steven Cain\tMD, CEO & Director\t3.33M\t\n",
        "```\n",
        "So Pay (or salary) is 3.33M\n",
        "\n",
        "#Want to calculate the tax\n",
        "\n",
        "Need to extract the 3.33 and multiply is by 1000,000 to five me the dollar amount \n",
        "\n",
        "To calculate the TAX, the Individual Income Tax Rates of Australia were considered:\n",
        "\n",
        "\n",
        "```\n",
        "Taxable income           Tax on this income\n",
        "\n",
        "0 – $18,200              Nil\n",
        "\n",
        "$18,201 – $45,000        19 cents for each $1 over $18,200\n",
        "\n",
        "$45,001 – $120,000       $5,092 plus 32.5 cents for each $1 over $45,000\n",
        "\n",
        "$120,001 – $180,000      $29,467 plus 37 cents for each $1 over $120,000\n",
        "\n",
        "$180,001 and over        $51,667 plus 45 cents for each $1 over $180,000\n",
        "```\n",
        "From: https://www.ato.gov.au/rates/individual-income-tax-rates/\n",
        "\n"
      ]
    },
    {
      "cell_type": "markdown",
      "metadata": {
        "id": "jW6vOcC2W2yd"
      },
      "source": [
        "# Exploring the Website\n",
        "* Stock Ticker Symbol: A stock symbol is a unique series of letters assigned to a security for trading purposes. From: http://www.investopedia.com/terms/s/stocksymbol.\n",
        "\n",
        "* How to get the correct web page address once the user prompts the ticker? ***understanding the URL structure*** : \n",
        "\n",
        "* Once  we get into Yahoo Finance, need to click on the 'Profile' tab. Using an example a ticker symbol profile looks as follows: \n",
        "\n",
        "  - For WOW.AX (Woolworths Group) https://au.finance.yahoo.com/quote/WOW.AX/profile?p=WOW.AX\n",
        "\n",
        "  - For COLAX.AX (Coles Group) https://au.finance.yahoo.com/quote/COL.AX/profile?p=COL.AX\n",
        "\n",
        "* Notice that the ticker appears twice in the Profile URL, which means the next step is to create an algorithm where I can add the ticker symbol to the URL once the user prompts it. This way the user extracts automatically the information from the URL web page and the algorithm proceeds to make the data processing. "
      ]
    },
    {
      "cell_type": "markdown",
      "metadata": {
        "id": "a4b7IHCLlLP1"
      },
      "source": [
        "# Creating the algorithm"
      ]
    },
    {
      "cell_type": "markdown",
      "metadata": {
        "id": "5f6cejM5Q2IS"
      },
      "source": [
        "##The libraries\n",
        "\n",
        "Python Libraries are a set of useful functions that eliminate the need for writing codes from scratch. The following libraries were considered for the developing purposes of this assignment.\n",
        "\n",
        "* BeautifulSoup: This is a helpful module that makes it easy to scrape information from web pages.\n",
        "\n",
        "* Pandas: Library for data analysis \n",
        "\n",
        "* Kora: Contains tools for Google Colab programming\n",
        "\n",
        "* SQLite is a library that provides a lightweight disk-based database that doesn’t require a separate server process and allows accessing the database using a nonstandard variant of the SQL query language. \n",
        "\n",
        "*matplotlib is a module from pandas libraries used to plot different graphics using dataframes. \n",
        "\n",
        "From:\n",
        "https://www.mygreatlearning.com/\n",
        "\n",
        "https://mode.com/python-tutorial/libraries/pandas/\n",
        "\n",
        "https://pypi.org/project/beautifulsoup4/\n",
        "\n",
        "https://docs.python.org/3/library/sqlite3/\n",
        "\n"
      ]
    },
    {
      "cell_type": "code",
      "metadata": {
        "id": "XSVd2VQVTMhJ"
      },
      "source": [
        "# Install the Packages\n",
        "!pip install kora -q\n",
        "\n",
        "#Load packages\n",
        "from bs4 import BeautifulSoup\n",
        "from kora.selenium import wd\n",
        "import pandas as pd\n",
        "import sqlite3\n",
        "import matplotlib.pyplot as plt"
      ],
      "execution_count": 14,
      "outputs": []
    },
    {
      "cell_type": "markdown",
      "metadata": {
        "id": "oR8ga74gHNmA"
      },
      "source": [
        "##Define the functions"
      ]
    },
    {
      "cell_type": "code",
      "metadata": {
        "id": "OFXJAXX8RzzL"
      },
      "source": [
        "def build_url():\n",
        "  ''' This function will build the URL of the profile page considering the ticker the user inserts'''\n",
        "  ticker = input(\"Please type in a ticker symbol \")\n",
        "  url_pattern = 'https://au.finance.yahoo.com/quote/{}/profile?p={}'\n",
        "  result = url_pattern.format(ticker, ticker)\n",
        "  return result"
      ],
      "execution_count": 4,
      "outputs": []
    },
    {
      "cell_type": "code",
      "metadata": {
        "id": "Gg2ibSI8Ur-v"
      },
      "source": [
        "def get_record(row):\n",
        "  ''' This function will structure the table's rows and headings'''\n",
        "  cells = row.find_all('td')\n",
        "  name = cells[0].text\n",
        "  title =  cells[1].text\n",
        "  pay = cells[2].text\n",
        "  return {'name': name, 'title': title, 'pay': pay}\n"
      ],
      "execution_count": 5,
      "outputs": []
    },
    {
      "cell_type": "code",
      "metadata": {
        "id": "SQ2hz7drXXHl"
      },
      "source": [
        "def get_rows(soup):\n",
        "  ''' This function will build the structure of the table'''\n",
        "  # Get the table!\n",
        "  table = soup.find('table')\n",
        "\n",
        "  # get to the row\n",
        "  body = table.find('tbody')\n",
        "  rows = body.find_all('tr')\n",
        "  return rows"
      ],
      "execution_count": 6,
      "outputs": []
    },
    {
      "cell_type": "code",
      "metadata": {
        "id": "jExc7IhtY2ge"
      },
      "source": [
        "def calculate_tax(income):\n",
        "  ''' \n",
        "  This function will calculate tha tax to be paid by every excecutive in the company considering the Individual income tax rates extracted from ATO.\n",
        "  FROM: https://www.ato.gov.au/rates/individual-income-tax-rates/\n",
        "  '''\n",
        "  \n",
        "  if income <= 18200:\n",
        "    tax_payable = 0\n",
        "  elif 18200 < income <= 45000:\n",
        "    tax_payable = 0.19 * (income - 18200)\n",
        "  elif 45000 < income < 120000:\n",
        "    tax_payable = 5092 + 0.32 * (income - 45000)\n",
        "  elif 120001 < income < 180000:\n",
        "    tax_payable = 29467 + 0.37 * (income - 120000)\n",
        "  elif income > 180000:\n",
        "    tax_payable = 51667 + 0.45 * (income - 180000)\n",
        "\n",
        "\n",
        "  return tax_payable"
      ],
      "execution_count": 7,
      "outputs": []
    },
    {
      "cell_type": "code",
      "metadata": {
        "id": "qqCsCO7OZyML"
      },
      "source": [
        "def get_salary(pay):  \n",
        "  ''' This function converts the salary denomination into a numeric value, taking \n",
        "  letter k as thousands and M as millions'''\n",
        "  last_char = pay[-1]\n",
        "  if last_char == 'M':\n",
        "    pay_as_num = float(pay[0:-1])\n",
        "    sal = pay_as_num * 1000000\n",
        "  elif last_char == 'k':\n",
        "    pay_as_num = float(pay[0:-1])\n",
        "    sal = pay_as_num * 1000\n",
        "  else: # Must be a N/A\n",
        "    sal = 0\n",
        "  return sal\n"
      ],
      "execution_count": 8,
      "outputs": []
    },
    {
      "cell_type": "markdown",
      "metadata": {
        "id": "YglRa49bMRbw"
      },
      "source": [
        "#Saving the table in CSV or SQL\n",
        "\n",
        "The table below will be saved in the collab folder in CSV format or SQL format according to the user's decision.\n",
        "\n",
        "The file can be downloaded by pressing the folder 'content' located at the left of the collab page, selecting the file, clicking on the 3 dots at the left of the file, and pressing download.\n"
      ]
    },
    {
      "cell_type": "code",
      "metadata": {
        "id": "wdThzrcD_8vt"
      },
      "source": [
        "def save_table(exec_df):\n",
        "  '''this fuction will save the table in CSV or SQL format according to User's choice'''\n",
        "  \n",
        "  format = int(input('what format do you wish to save the table? **press 1 for \"csv\" or 2 for \"sql\"** '))\n",
        "\n",
        "  if format == 1 : \n",
        "    df = pd.DataFrame(exec_df, columns= ['name', 'title', 'pay', 'tax'])\n",
        "    df.to_csv (r'Table of excecutives.csv', index = False, header=True)\n",
        "    print('Your table was saved succesfully in CSV format')\n",
        "   \n",
        "\n",
        "  elif format == 2 :\n",
        "    conn = sqlite3.connect('table_of_excecutives_SQL')\n",
        "    c = conn.cursor()\n",
        "    df = pd.DataFrame(exec_df, columns= ['name', 'title', 'pay', 'tax'])\n",
        "    df.to_sql('exec_df', conn, if_exists='replace', index = False)\n",
        "    c.execute('''  \n",
        "    SELECT * FROM exec_df\n",
        "              ''')\n",
        "    for row in c.fetchall():\n",
        "        print (row)\n",
        "    print('Your table was saved succesfully in SQL format')\n",
        "  \n",
        "  else: \n",
        "    print('Please try again')\n",
        "\n",
        "  return save_table\n"
      ],
      "execution_count": 21,
      "outputs": []
    },
    {
      "cell_type": "markdown",
      "metadata": {
        "id": "UDnzl5_V42uN"
      },
      "source": [
        "# FINAL RESULT \n",
        "*Insert the ticker WOW.AX* "
      ]
    },
    {
      "cell_type": "code",
      "metadata": {
        "colab": {
          "base_uri": "https://localhost:8080/"
        },
        "id": "7M_zc_8LX6zo",
        "outputId": "66609c9e-d85c-4615-cddb-5851f7e6f75e"
      },
      "source": [
        "#Once the functions are defined, the next step is get the program ready \n",
        "\n",
        "name = str(input('Hello! What is your name? '))\n",
        "print('Welcome on board ' + name + '!')\n",
        "\n",
        "url = build_url()\n",
        "wd.get(url)\n",
        "soup = BeautifulSoup(wd.page_source,'html.parser')\n",
        "rows = get_rows(soup)\n",
        "\n",
        "# getting all the records\n",
        "records = []\n",
        "for row in rows:\n",
        "  rec = get_record(row)\n",
        "  records.append(rec)\n",
        "\n",
        "# adding the tax column\n",
        "for rec in records:\n",
        "  sal = get_salary(rec['pay'])\n",
        "  rec['tax'] = calculate_tax(sal)\n",
        "\n",
        "exec_df = pd.DataFrame.from_records(records)\n",
        "exec_df\n",
        "\n",
        "savetable = save_table(exec_df)"
      ],
      "execution_count": 22,
      "outputs": [
        {
          "output_type": "stream",
          "name": "stdout",
          "text": [
            "Hello! What is your name? Valentina\n",
            "Welcome on board Valentina!\n",
            "Please type in a ticker symbol WOW.AX\n",
            "what format do you wish to save the table? **press 1 for \"csv\" or 2 for \"sql\"** 1\n",
            "Your table was saved succesfully in CSV format\n"
          ]
        }
      ]
    },
    {
      "cell_type": "markdown",
      "metadata": {
        "id": "rt9BWp4CSacJ"
      },
      "source": [
        "#TESTING THE DATA\n",
        "\n",
        "Let's see in a bar graph, the difference in taxes that executives must pay in the company"
      ]
    },
    {
      "cell_type": "code",
      "metadata": {
        "colab": {
          "base_uri": "https://localhost:8080/",
          "height": 504
        },
        "id": "Y9BsaPQDMiIx",
        "outputId": "f9e3b635-85ef-48dc-c6e7-1a7d4f4563ef"
      },
      "source": [
        "df = pd.DataFrame(exec_df, columns= ['title', 'tax'])\n",
        "df.plot(x ='title', y= 'tax', kind = 'bar')\n",
        "plt.show()\n",
        "\n"
      ],
      "execution_count": 35,
      "outputs": [
        {
          "output_type": "display_data",
          "data": {
            "image/png": "[encoded data removed]",
            "text/plain": [
              "<Figure size 432x288 with 1 Axes>"
            ]
          },
          "metadata": {
            "needs_background": "light"
          }
        }
      ]
    }
  ]
}