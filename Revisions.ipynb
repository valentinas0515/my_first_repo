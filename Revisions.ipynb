{
  "nbformat": 4,
  "nbformat_minor": 0,
  "metadata": {
    "colab": {
      "name": "Revisions.ipynb",
      "provenance": [],
      "authorship_tag": "ABX9TyNX2gqd5QeD40zdFqKJNH3r",
      "include_colab_link": true
    },
    "kernelspec": {
      "name": "python3",
      "display_name": "Python 3"
    },
    "language_info": {
      "name": "python"
    }
  },
  "cells": [
    {
      "cell_type": "markdown",
      "metadata": {
        "id": "view-in-github",
        "colab_type": "text"
      },
      "source": [
        "<a href=\"https://colab.research.google.com/github/valentinas0515/my_first_repo/blob/main/Revisions.ipynb\" target=\"_parent\"><img src=\"https://colab.research.google.com/assets/colab-badge.svg\" alt=\"Open In Colab\"/></a>"
      ]
    },
    {
      "cell_type": "markdown",
      "metadata": {
        "id": "y3scA0mp9c3K"
      },
      "source": [
        "**EXCEPTIONS**\n",
        "\n",
        "*   Try\n",
        "*   Except\n",
        "*   finally\n",
        "\n",
        "\n",
        "\n"
      ]
    },
    {
      "cell_type": "code",
      "metadata": {
        "colab": {
          "base_uri": "https://localhost:8080/"
        },
        "id": "9ps33LP19Uhh",
        "outputId": "32cd918d-b866-4317-9424-9e2e456f607c"
      },
      "source": [
        "try:\n",
        "  age_input = input(\"How old are you? \")\n",
        "  age = int(age_input)\n",
        "  print(\"Wow you are \", age)\n",
        "except TypeError as e:\n",
        "  print(\"TypError: \", e)\n",
        "except Exception as e:\n",
        "  print(\"Here is the exception message \", e)"
      ],
      "execution_count": 12,
      "outputs": [
        {
          "output_type": "stream",
          "name": "stdout",
          "text": [
            "How old are you? five\n",
            "Here is the exception message  invalid literal for int() with base 10: 'five'\n"
          ]
        }
      ]
    },
    {
      "cell_type": "code",
      "metadata": {
        "colab": {
          "base_uri": "https://localhost:8080/"
        },
        "id": "dvUibkUv-vuI",
        "outputId": "6fcaacd8-644a-4af8-c0e4-66f2f7156650"
      },
      "source": [
        "try:\n",
        "  num1 = int(input(\"Please input the first number \"))\n",
        "  num2 = int(input(\"Please input the second number \"))\n",
        "  print(\"num1 divided num2 is \", num1/num2)\n",
        "except ValueError:\n",
        "  print(\"Please enter the digits do not spell the word\")\n",
        "except ZeroDivisionError:\n",
        "  print(\"The second number cannot be zero!\")"
      ],
      "execution_count": 14,
      "outputs": [
        {
          "output_type": "stream",
          "name": "stdout",
          "text": [
            "Please input the first number 1\n",
            "Please input the second number 0\n",
            "The second number cannot be zero!\n"
          ]
        }
      ]
    },
    {
      "cell_type": "code",
      "metadata": {
        "id": "FPDqWMa5_72Q"
      },
      "source": [
        ""
      ],
      "execution_count": null,
      "outputs": []
    }
  ]
}