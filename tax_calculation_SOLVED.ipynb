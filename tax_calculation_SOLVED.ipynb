{
  "nbformat": 4,
  "nbformat_minor": 0,
  "metadata": {
    "colab": {
      "name": "tax_calculation_SOLVER.ipynb",
      "provenance": [],
      "include_colab_link": true
    },
    "kernelspec": {
      "name": "python3",
      "display_name": "Python 3"
    },
    "language_info": {
      "name": "python"
    }
  },
  "cells": [
    {
      "cell_type": "markdown",
      "metadata": {
        "id": "view-in-github",
        "colab_type": "text"
      },
      "source": [
        "<a href=\"https://colab.research.google.com/github/valentinas0515/my_first_repo/blob/main/tax_calculation_SOLVED.ipynb\" target=\"_parent\"><img src=\"https://colab.research.google.com/assets/colab-badge.svg\" alt=\"Open In Colab\"/></a>"
      ]
    },
    {
      "cell_type": "markdown",
      "metadata": {
        "id": "bVMwNyExqHgH"
      },
      "source": [
        "Write a program the prompts the user for their income and caclualtes the tax payable.\n",
        "\n",
        "[Resident tax rates 2021–22\n",
        "Taxable income](https://www.ato.gov.au/rates/individual-income-tax-rates/)\n",
        "\n",
        "Income            | Tax on this income \n",
        "------------------|----------------------\n",
        "0 – \\$18,200       | Nil\n",
        "\\$18,201 – \\$45,000 | 19 cents for each \\$1 over \\$18,200\n",
        "\\$45,001 – \\$120,000 | \\$5,092 plus 32.5 cents for each \\$1 over \\$45,000\n",
        "\\$120,001 – \\$180,000 |  \\$29,467 plus 37 cents for each \\$1 over \\$120,000\n",
        "\\$180,001 and over | \\$51,667 plus 45 cents for each \\$1 over \\$180,000\n",
        "\n"
      ]
    },
    {
      "cell_type": "markdown",
      "metadata": {
        "id": "Ub28uHHxS1uY"
      },
      "source": [
        "STEPS:\n",
        "1. Get the income\n",
        "2. Calculate the Tax Payable"
      ]
    },
    {
      "cell_type": "code",
      "metadata": {
        "id": "BSQnuKQvr-zw",
        "colab": {
          "base_uri": "https://localhost:8080/"
        },
        "outputId": "f34ecab4-46ad-47ec-e459-eb6071338ba3"
      },
      "source": [
        "#step 1 - Get the income amount \n",
        "income = int(input(\"What is your income for the year? \"))\n",
        "print(\"your income is: \", income)\n",
        "\n",
        "#step 2 - 2 Calculate the tax payable\n",
        "#if you earn $18,200, then pay no tax\n",
        "#else if you earn between $45,001 - $120,000\n",
        "# the pay 19 cents for eavy dollar over $18,200\n",
        "\n",
        "if income <= 18200 :\n",
        "   tax_payable = 0\n",
        "elif 18200 < income <= 45000 :\n",
        "  tax_payable = 0.19 * (income - 18200)\n",
        "elif 45001 < income <= 120000 :\n",
        "  tax_payable = 5092 + 0.325 * (income - 45000)\n",
        "elif 120001 < income <= 180000 :\n",
        "  tax_payable = 29467 + 0.37 * (income - 120000)\n",
        "elif income >= 180001 :\n",
        "  tax_payable = 51667 + 0.45 * (income - 180000)  \n",
        "\n",
        "print( \"Your tax payable is \", tax_payable)"
      ],
      "execution_count": 1,
      "outputs": [
        {
          "output_type": "stream",
          "name": "stdout",
          "text": [
            "What is your income for the year? 180001\n",
            "your income is:  180001\n",
            "Your tax payable is  51667.45\n"
          ]
        }
      ]
    },
    {
      "cell_type": "code",
      "metadata": {
        "id": "eJ84jtrBTRXx"
      },
      "source": [
        "def get_income() :\n",
        "  '''This function will propmt the user for the income amount and return the value '''\n",
        "  income = int(input(\"What is your income for the year? \"))\n",
        "  return income"
      ],
      "execution_count": 1,
      "outputs": []
    },
    {
      "cell_type": "code",
      "metadata": {
        "id": "6_MjWszCcmt7"
      },
      "source": [
        "def calculate_tax(income) :\n",
        "  ''' This function Calculates the tax payable '''\n",
        "\n",
        "  if income <= 18200 :\n",
        "    tax_payable = 0\n",
        "  elif 18200 < income <= 45000 :\n",
        "    tax_payable = 0.19 * (income - 18200)\n",
        "  elif 45001 < income <= 120000 :\n",
        "    tax_payable = 5092 + 0.325 * (income - 45000)\n",
        "  elif 120001 < income <= 180000 :\n",
        "    tax_payable = 29467 + 0.37 * (income - 120000)\n",
        "  elif income >= 180001 :\n",
        "   tax_payable = 51667 + 0.45 * (income - 180000)  \n",
        "  return tax_payable"
      ],
      "execution_count": 2,
      "outputs": []
    },
    {
      "cell_type": "code",
      "metadata": {
        "colab": {
          "base_uri": "https://localhost:8080/"
        },
        "id": "CanIM0hheJdn",
        "outputId": "c4215804-b48e-4642-bced-71b74373bdf6"
      },
      "source": [
        "#Mail Line\n",
        "#Step 1 \n",
        "income = get_income()\n",
        "#Step 2\n",
        "tax = calculate_tax (income)\n",
        "\n",
        "print(\"Your tax payable is: \", tax)"
      ],
      "execution_count": 4,
      "outputs": [
        {
          "output_type": "stream",
          "name": "stdout",
          "text": [
            "What is your income for the year? 190000\n",
            "Your tax payable is:  56167.0\n"
          ]
        }
      ]
    }
  ]
}